{
 "cells": [
  {
   "cell_type": "markdown",
   "metadata": {},
   "source": [
    "powermode.enablePowerMode"
   ]
  },
  {
   "cell_type": "code",
   "execution_count": 3,
   "metadata": {},
   "outputs": [
    {
     "name": "stdout",
     "output_type": "stream",
     "text": [
      "Quotation of 102003857304857302847495 and 5 is 2.040077146097146e+22\n"
     ]
    }
   ],
   "source": [
    "# Online Python - IDE, Editor, Compiler, Interpreter\n",
    "\n",
    "def sum(a,b):\n",
    "    return(a+b)\n",
    "    \n",
    "def multiply(a,b):\n",
    "    return(a*b)\n",
    "    \n",
    "def divide(a,b):\n",
    "    return(a/b)\n",
    "    \n",
    "def minus(a,b):\n",
    "    return(a-b)\n",
    "\n",
    "a=int(input(\"What is the 1st number\"))\n",
    "b=int(input(\"What is the 2nd number\"))\n",
    "\n",
    "operation=input(\"What operation would you like to do?(sum, multiply, divide, minus)\")\n",
    "\n",
    "if operation == \"sum\":\n",
    "    print(f\"Sum of {a} and {b} is {sum(a,b)}\")\n",
    "    \n",
    "elif operation == \"multiply\":\n",
    "    print(f\"Product of {a} and {b} is {multiply(a,b)}\")\n",
    "    \n",
    "elif operation == \"divide\":\n",
    "    print(f\"Quotation of {a} and {b} is {divide(a,b)}\")\n",
    "    \n",
    "elif operation == \"minus\":\n",
    "    print(f\"Product of {a} and {b} is {minus(a,b)}\")"
   ]
  }
 ],
 "metadata": {
  "kernelspec": {
   "display_name": "Python 3.10.5 64-bit",
   "language": "python",
   "name": "python3"
  },
  "language_info": {
   "codemirror_mode": {
    "name": "ipython",
    "version": 3
   },
   "file_extension": ".py",
   "mimetype": "text/x-python",
   "name": "python",
   "nbconvert_exporter": "python",
   "pygments_lexer": "ipython3",
   "version": "3.10.5"
  },
  "orig_nbformat": 4,
  "vscode": {
   "interpreter": {
    "hash": "a57b54a5097d3df85da0ce765ef720fa7cdb850b63e5825dccf4571e20c1ad19"
   }
  }
 },
 "nbformat": 4,
 "nbformat_minor": 2
}
