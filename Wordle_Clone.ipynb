{
 "cells": [
  {
   "cell_type": "markdown",
   "metadata": {},
   "source": [
    "#### WORDLE CLONE"
   ]
  },
  {
   "cell_type": "markdown",
   "metadata": {},
   "source": [
    "## Notes for Development:\n",
    "\n",
    "- How would I make the input only five letters?\n",
    "- Homework:\n",
    "    - Play worlde and document what features you would like to recreate.\n",
    "    - Also tell the player that the letters they got right in even in the wrong places\n",
    "    - Find away to say the letters and not just the index\n",
    "    - Does not tell them if they got it right or wrong the second or third try unless it is 100% right or until the next try\n",
    "    - No repeats"
   ]
  },
  {
   "cell_type": "code",
   "execution_count": 12,
   "metadata": {},
   "outputs": [
    {
     "name": "stdout",
     "output_type": "stream",
     "text": [
      "The rules to wordle are simple. Type a five letter word and I will tell you if the letters are in the right place and you only have 6 tries\n"
     ]
    }
   ],
   "source": [
    "hello=input(\"Hello this Anthony's Beta version of wordle. If you have already played then type go. If not and you want to hear the rules then type rules\")\n",
    "\n",
    "if hello == \"rules\":\n",
    "    print(\"The rules to wordle are simple. Type a five letter word and I will tell you if the letters are in the right place and you only have 6 tries\")\n"
   ]
  },
  {
   "cell_type": "code",
   "execution_count": 2,
   "metadata": {},
   "outputs": [
    {
     "name": "stdout",
     "output_type": "stream",
     "text": [
      "You got the chracater in index position 0 wrong!!!\n",
      "You got the chracater in index position 1 wrong!!!\n",
      "You got the chracater in index position 2 wrong!!!\n",
      "You got the chracater in index position 3 wrong!!!\n",
      "You got the chracater in index position 4 wrong!!!\n",
      "Try again!\n",
      "You got the chracater in index position 3 wrong!!!\n",
      "You got the chracater in index position 4 wrong!!!\n",
      "Try again!\n",
      "You got the chracater in index position 0 wrong!!!\n",
      "You got the chracater in index position 1 wrong!!!\n",
      "You got the chracater in index position 2 wrong!!!\n",
      "You got the chracater in index position 4 wrong!!!\n",
      "Try again!\n",
      "Try again!\n",
      "Try again!\n",
      "Try again!\n"
     ]
    }
   ],
   "source": [
    "# Online Python - IDE, Editor, Compiler, Interpreter\n",
    "NUM_OF_ATTEMPTS = 6\n",
    "\n",
    "word_of_day = 'angry'\n",
    "\n",
    "word_of_day_list = [char for char in word_of_day]\n",
    "\n",
    "answer_is_correct = False\n",
    "\n",
    "while NUM_OF_ATTEMPTS > 0 and answer_is_correct == False:\n",
    "    \n",
    "    attempt = input(\"Please insert a word: \")\n",
    "\n",
    "    attempt_list = [char for char in attempt]\n",
    "    \n",
    "    if attempt == word_of_day:\n",
    "        print(f\"You got this correct! The word was {word_of_day}\")\n",
    "        answer_is_correct = True\n",
    "        \n",
    "    else:\n",
    "    #     #use a for loop to tell them which letter they got wrong by looping through their answer.\n",
    "    #     #you can print the individual letters they messed up, by comparing these individual letters\n",
    "    #     #to the letters in the right word.\n",
    "        i = 0\n",
    "        for char in attempt_list:\n",
    "            if char != word_of_day_list[i]: #lets figure out why this worked opposite\n",
    "                print(f\"You got the chracater in index position {i} wrong!!!\")\n",
    "            i += 1\n",
    "        print(\"Try again!\")\n",
    "        \n",
    "    NUM_OF_ATTEMPTS -= 1\n"
   ]
  }
 ],
 "metadata": {
  "kernelspec": {
   "display_name": "Python 3.10.5 64-bit",
   "language": "python",
   "name": "python3"
  },
  "language_info": {
   "codemirror_mode": {
    "name": "ipython",
    "version": 3
   },
   "file_extension": ".py",
   "mimetype": "text/x-python",
   "name": "python",
   "nbconvert_exporter": "python",
   "pygments_lexer": "ipython3",
   "version": "3.10.5"
  },
  "orig_nbformat": 4,
  "vscode": {
   "interpreter": {
    "hash": "a57b54a5097d3df85da0ce765ef720fa7cdb850b63e5825dccf4571e20c1ad19"
   }
  }
 },
 "nbformat": 4,
 "nbformat_minor": 2
}
